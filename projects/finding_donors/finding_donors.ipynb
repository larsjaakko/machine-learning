{
 "cells": [
  {
   "cell_type": "markdown",
   "metadata": {},
   "source": [
    "# Machine Learning Engineer Nanodegree\n",
    "## Supervised Learning\n",
    "## Project: Finding Donors for *CharityML*"
   ]
  },
  {
   "cell_type": "markdown",
   "metadata": {},
   "source": [
    "Welcome to the second project of the Machine Learning Engineer Nanodegree! In this notebook, some template code has already been provided for you, and it will be your job to implement the additional functionality necessary to successfully complete this project. Sections that begin with **'Implementation'** in the header indicate that the following block of code will require additional functionality which you must provide. Instructions will be provided for each section and the specifics of the implementation are marked in the code block with a `'TODO'` statement. Please be sure to read the instructions carefully!\n",
    "\n",
    "In addition to implementing code, there will be questions that you must answer which relate to the project and your implementation. Each section where you will answer a question is preceded by a **'Question X'** header. Carefully read each question and provide thorough answers in the following text boxes that begin with **'Answer:'**. Your project submission will be evaluated based on your answers to each of the questions and the implementation you provide.  \n",
    "\n",
    ">**Note:** Please specify WHICH VERSION OF PYTHON you are using when submitting this notebook. Code and Markdown cells can be executed using the **Shift + Enter** keyboard shortcut. In addition, Markdown cells can be edited by typically double-clicking the cell to enter edit mode."
   ]
  },
  {
   "cell_type": "markdown",
   "metadata": {},
   "source": [
    "## Getting Started\n",
    "\n",
    "In this project, you will employ several supervised algorithms of your choice to accurately model individuals' income using data collected from the 1994 U.S. Census. You will then choose the best candidate algorithm from preliminary results and further optimize this algorithm to best model the data. Your goal with this implementation is to construct a model that accurately predicts whether an individual makes more than $50,000. This sort of task can arise in a non-profit setting, where organizations survive on donations.  Understanding an individual's income can help a non-profit better understand how large of a donation to request, or whether or not they should reach out to begin with.  While it can be difficult to determine an individual's general income bracket directly from public sources, we can (as we will see) infer this value from other publically available features. \n",
    "\n",
    "The dataset for this project originates from the [UCI Machine Learning Repository](https://archive.ics.uci.edu/ml/datasets/Census+Income). The dataset was donated by Ron Kohavi and Barry Becker, after being published in the article _\"Scaling Up the Accuracy of Naive-Bayes Classifiers: A Decision-Tree Hybrid\"_. You can find the article by Ron Kohavi [online](https://www.aaai.org/Papers/KDD/1996/KDD96-033.pdf). The data we investigate here consists of small changes to the original dataset, such as removing the `'fnlwgt'` feature and records with missing or ill-formatted entries."
   ]
  },
  {
   "cell_type": "markdown",
   "metadata": {},
   "source": [
    "----\n",
    "## Exploring the Data\n",
    "Run the code cell below to load necessary Python libraries and load the census data. Note that the last column from this dataset, `'income'`, will be our target label (whether an individual makes more than, or at most, $50,000 annually). All other columns are features about each individual in the census database."
   ]
  },
  {
   "cell_type": "code",
   "execution_count": 1,
   "metadata": {},
   "outputs": [
    {
     "data": {
      "text/html": [
       "<div>\n",
       "<style scoped>\n",
       "    .dataframe tbody tr th:only-of-type {\n",
       "        vertical-align: middle;\n",
       "    }\n",
       "\n",
       "    .dataframe tbody tr th {\n",
       "        vertical-align: top;\n",
       "    }\n",
       "\n",
       "    .dataframe thead th {\n",
       "        text-align: right;\n",
       "    }\n",
       "</style>\n",
       "<table border=\"1\" class=\"dataframe\">\n",
       "  <thead>\n",
       "    <tr style=\"text-align: right;\">\n",
       "      <th></th>\n",
       "      <th>age</th>\n",
       "      <th>workclass</th>\n",
       "      <th>education_level</th>\n",
       "      <th>education-num</th>\n",
       "      <th>marital-status</th>\n",
       "      <th>occupation</th>\n",
       "      <th>relationship</th>\n",
       "      <th>race</th>\n",
       "      <th>sex</th>\n",
       "      <th>capital-gain</th>\n",
       "      <th>capital-loss</th>\n",
       "      <th>hours-per-week</th>\n",
       "      <th>native-country</th>\n",
       "      <th>income</th>\n",
       "    </tr>\n",
       "  </thead>\n",
       "  <tbody>\n",
       "    <tr>\n",
       "      <th>0</th>\n",
       "      <td>39</td>\n",
       "      <td>State-gov</td>\n",
       "      <td>Bachelors</td>\n",
       "      <td>13.0</td>\n",
       "      <td>Never-married</td>\n",
       "      <td>Adm-clerical</td>\n",
       "      <td>Not-in-family</td>\n",
       "      <td>White</td>\n",
       "      <td>Male</td>\n",
       "      <td>2174.0</td>\n",
       "      <td>0.0</td>\n",
       "      <td>40.0</td>\n",
       "      <td>United-States</td>\n",
       "      <td>&lt;=50K</td>\n",
       "    </tr>\n",
       "    <tr>\n",
       "      <th>1</th>\n",
       "      <td>50</td>\n",
       "      <td>Self-emp-not-inc</td>\n",
       "      <td>Bachelors</td>\n",
       "      <td>13.0</td>\n",
       "      <td>Married-civ-spouse</td>\n",
       "      <td>Exec-managerial</td>\n",
       "      <td>Husband</td>\n",
       "      <td>White</td>\n",
       "      <td>Male</td>\n",
       "      <td>0.0</td>\n",
       "      <td>0.0</td>\n",
       "      <td>13.0</td>\n",
       "      <td>United-States</td>\n",
       "      <td>&lt;=50K</td>\n",
       "    </tr>\n",
       "    <tr>\n",
       "      <th>2</th>\n",
       "      <td>38</td>\n",
       "      <td>Private</td>\n",
       "      <td>HS-grad</td>\n",
       "      <td>9.0</td>\n",
       "      <td>Divorced</td>\n",
       "      <td>Handlers-cleaners</td>\n",
       "      <td>Not-in-family</td>\n",
       "      <td>White</td>\n",
       "      <td>Male</td>\n",
       "      <td>0.0</td>\n",
       "      <td>0.0</td>\n",
       "      <td>40.0</td>\n",
       "      <td>United-States</td>\n",
       "      <td>&lt;=50K</td>\n",
       "    </tr>\n",
       "    <tr>\n",
       "      <th>3</th>\n",
       "      <td>53</td>\n",
       "      <td>Private</td>\n",
       "      <td>11th</td>\n",
       "      <td>7.0</td>\n",
       "      <td>Married-civ-spouse</td>\n",
       "      <td>Handlers-cleaners</td>\n",
       "      <td>Husband</td>\n",
       "      <td>Black</td>\n",
       "      <td>Male</td>\n",
       "      <td>0.0</td>\n",
       "      <td>0.0</td>\n",
       "      <td>40.0</td>\n",
       "      <td>United-States</td>\n",
       "      <td>&lt;=50K</td>\n",
       "    </tr>\n",
       "    <tr>\n",
       "      <th>4</th>\n",
       "      <td>28</td>\n",
       "      <td>Private</td>\n",
       "      <td>Bachelors</td>\n",
       "      <td>13.0</td>\n",
       "      <td>Married-civ-spouse</td>\n",
       "      <td>Prof-specialty</td>\n",
       "      <td>Wife</td>\n",
       "      <td>Black</td>\n",
       "      <td>Female</td>\n",
       "      <td>0.0</td>\n",
       "      <td>0.0</td>\n",
       "      <td>40.0</td>\n",
       "      <td>Cuba</td>\n",
       "      <td>&lt;=50K</td>\n",
       "    </tr>\n",
       "    <tr>\n",
       "      <th>5</th>\n",
       "      <td>37</td>\n",
       "      <td>Private</td>\n",
       "      <td>Masters</td>\n",
       "      <td>14.0</td>\n",
       "      <td>Married-civ-spouse</td>\n",
       "      <td>Exec-managerial</td>\n",
       "      <td>Wife</td>\n",
       "      <td>White</td>\n",
       "      <td>Female</td>\n",
       "      <td>0.0</td>\n",
       "      <td>0.0</td>\n",
       "      <td>40.0</td>\n",
       "      <td>United-States</td>\n",
       "      <td>&lt;=50K</td>\n",
       "    </tr>\n",
       "    <tr>\n",
       "      <th>6</th>\n",
       "      <td>49</td>\n",
       "      <td>Private</td>\n",
       "      <td>9th</td>\n",
       "      <td>5.0</td>\n",
       "      <td>Married-spouse-absent</td>\n",
       "      <td>Other-service</td>\n",
       "      <td>Not-in-family</td>\n",
       "      <td>Black</td>\n",
       "      <td>Female</td>\n",
       "      <td>0.0</td>\n",
       "      <td>0.0</td>\n",
       "      <td>16.0</td>\n",
       "      <td>Jamaica</td>\n",
       "      <td>&lt;=50K</td>\n",
       "    </tr>\n",
       "    <tr>\n",
       "      <th>7</th>\n",
       "      <td>52</td>\n",
       "      <td>Self-emp-not-inc</td>\n",
       "      <td>HS-grad</td>\n",
       "      <td>9.0</td>\n",
       "      <td>Married-civ-spouse</td>\n",
       "      <td>Exec-managerial</td>\n",
       "      <td>Husband</td>\n",
       "      <td>White</td>\n",
       "      <td>Male</td>\n",
       "      <td>0.0</td>\n",
       "      <td>0.0</td>\n",
       "      <td>45.0</td>\n",
       "      <td>United-States</td>\n",
       "      <td>&gt;50K</td>\n",
       "    </tr>\n",
       "    <tr>\n",
       "      <th>8</th>\n",
       "      <td>31</td>\n",
       "      <td>Private</td>\n",
       "      <td>Masters</td>\n",
       "      <td>14.0</td>\n",
       "      <td>Never-married</td>\n",
       "      <td>Prof-specialty</td>\n",
       "      <td>Not-in-family</td>\n",
       "      <td>White</td>\n",
       "      <td>Female</td>\n",
       "      <td>14084.0</td>\n",
       "      <td>0.0</td>\n",
       "      <td>50.0</td>\n",
       "      <td>United-States</td>\n",
       "      <td>&gt;50K</td>\n",
       "    </tr>\n",
       "    <tr>\n",
       "      <th>9</th>\n",
       "      <td>42</td>\n",
       "      <td>Private</td>\n",
       "      <td>Bachelors</td>\n",
       "      <td>13.0</td>\n",
       "      <td>Married-civ-spouse</td>\n",
       "      <td>Exec-managerial</td>\n",
       "      <td>Husband</td>\n",
       "      <td>White</td>\n",
       "      <td>Male</td>\n",
       "      <td>5178.0</td>\n",
       "      <td>0.0</td>\n",
       "      <td>40.0</td>\n",
       "      <td>United-States</td>\n",
       "      <td>&gt;50K</td>\n",
       "    </tr>\n",
       "  </tbody>\n",
       "</table>\n",
       "</div>"
      ],
      "text/plain": [
       "   age          workclass education_level  education-num  \\\n",
       "0   39          State-gov       Bachelors           13.0   \n",
       "1   50   Self-emp-not-inc       Bachelors           13.0   \n",
       "2   38            Private         HS-grad            9.0   \n",
       "3   53            Private            11th            7.0   \n",
       "4   28            Private       Bachelors           13.0   \n",
       "5   37            Private         Masters           14.0   \n",
       "6   49            Private             9th            5.0   \n",
       "7   52   Self-emp-not-inc         HS-grad            9.0   \n",
       "8   31            Private         Masters           14.0   \n",
       "9   42            Private       Bachelors           13.0   \n",
       "\n",
       "           marital-status          occupation    relationship    race  \\\n",
       "0           Never-married        Adm-clerical   Not-in-family   White   \n",
       "1      Married-civ-spouse     Exec-managerial         Husband   White   \n",
       "2                Divorced   Handlers-cleaners   Not-in-family   White   \n",
       "3      Married-civ-spouse   Handlers-cleaners         Husband   Black   \n",
       "4      Married-civ-spouse      Prof-specialty            Wife   Black   \n",
       "5      Married-civ-spouse     Exec-managerial            Wife   White   \n",
       "6   Married-spouse-absent       Other-service   Not-in-family   Black   \n",
       "7      Married-civ-spouse     Exec-managerial         Husband   White   \n",
       "8           Never-married      Prof-specialty   Not-in-family   White   \n",
       "9      Married-civ-spouse     Exec-managerial         Husband   White   \n",
       "\n",
       "       sex  capital-gain  capital-loss  hours-per-week  native-country income  \n",
       "0     Male        2174.0           0.0            40.0   United-States  <=50K  \n",
       "1     Male           0.0           0.0            13.0   United-States  <=50K  \n",
       "2     Male           0.0           0.0            40.0   United-States  <=50K  \n",
       "3     Male           0.0           0.0            40.0   United-States  <=50K  \n",
       "4   Female           0.0           0.0            40.0            Cuba  <=50K  \n",
       "5   Female           0.0           0.0            40.0   United-States  <=50K  \n",
       "6   Female           0.0           0.0            16.0         Jamaica  <=50K  \n",
       "7     Male           0.0           0.0            45.0   United-States   >50K  \n",
       "8   Female       14084.0           0.0            50.0   United-States   >50K  \n",
       "9     Male        5178.0           0.0            40.0   United-States   >50K  "
      ]
     },
     "metadata": {},
     "output_type": "display_data"
    }
   ],
   "source": [
    "# Import libraries necessary for this project\n",
    "import numpy as np\n",
    "import pandas as pd\n",
    "from time import time\n",
    "from IPython.display import display # Allows the use of display() for DataFrames\n",
    "\n",
    "from __future__ import division\n",
    "\n",
    "# Import supplementary visualization code visuals.py\n",
    "import visuals as vs\n",
    "\n",
    "# Pretty display for notebooks\n",
    "%matplotlib inline\n",
    "\n",
    "# Load the Census dataset\n",
    "data = pd.read_csv(\"census.csv\")\n",
    "\n",
    "# Success - Display the first record\n",
    "display(data.head(n=10))"
   ]
  },
  {
   "cell_type": "markdown",
   "metadata": {},
   "source": [
    "### Implementation: Data Exploration\n",
    "A cursory investigation of the dataset will determine how many individuals fit into either group, and will tell us about the percentage of these individuals making more than \\$50,000. In the code cell below, you will need to compute the following:\n",
    "- The total number of records, `'n_records'`\n",
    "- The number of individuals making more than \\$50,000 annually, `'n_greater_50k'`.\n",
    "- The number of individuals making at most \\$50,000 annually, `'n_at_most_50k'`.\n",
    "- The percentage of individuals making more than \\$50,000 annually, `'greater_percent'`.\n",
    "\n",
    "** HINT: ** You may need to look at the table above to understand how the `'income'` entries are formatted. "
   ]
  },
  {
   "cell_type": "code",
   "execution_count": 2,
   "metadata": {},
   "outputs": [
    {
     "name": "stdout",
     "output_type": "stream",
     "text": [
      "Total number of records: 45222\n",
      "Individuals making more than $50,000: 11208\n",
      "Individuals making at most $50,000: 34014\n",
      "Percentage of individuals making more than $50,000: 24.78%\n"
     ]
    }
   ],
   "source": [
    "# TODO: Total number of records\n",
    "n_records = data.shape[0]\n",
    "\n",
    "# TODO: Number of records where individual's income is more than $50,000\n",
    "n_greater_50k = data[data['income'] == '>50K'].shape[0]\n",
    "\n",
    "# TODO: Number of records where individual's income is at most $50,000\n",
    "n_at_most_50k = data[data['income'] == '<=50K'].shape[0]\n",
    "\n",
    "# TODO: Percentage of individuals whose income is more than $50,000\n",
    "greater_percent = n_greater_50k / n_records * 100\n",
    "\n",
    "# Print the results\n",
    "print \"Total number of records: {}\".format(n_records)\n",
    "print \"Individuals making more than $50,000: {}\".format(n_greater_50k)\n",
    "print \"Individuals making at most $50,000: {}\".format(n_at_most_50k)\n",
    "print \"Percentage of individuals making more than $50,000: {:.2f}%\".format(greater_percent)"
   ]
  },
  {
   "cell_type": "markdown",
   "metadata": {},
   "source": [
    "** Featureset Exploration **\n",
    "\n",
    "* **age**: continuous. \n",
    "* **workclass**: Private, Self-emp-not-inc, Self-emp-inc, Federal-gov, Local-gov, State-gov, Without-pay, Never-worked. \n",
    "* **education**: Bachelors, Some-college, 11th, HS-grad, Prof-school, Assoc-acdm, Assoc-voc, 9th, 7th-8th, 12th, Masters, 1st-4th, 10th, Doctorate, 5th-6th, Preschool. \n",
    "* **education-num**: continuous. \n",
    "* **marital-status**: Married-civ-spouse, Divorced, Never-married, Separated, Widowed, Married-spouse-absent, Married-AF-spouse. \n",
    "* **occupation**: Tech-support, Craft-repair, Other-service, Sales, Exec-managerial, Prof-specialty, Handlers-cleaners, Machine-op-inspct, Adm-clerical, Farming-fishing, Transport-moving, Priv-house-serv, Protective-serv, Armed-Forces. \n",
    "* **relationship**: Wife, Own-child, Husband, Not-in-family, Other-relative, Unmarried. \n",
    "* **race**: Black, White, Asian-Pac-Islander, Amer-Indian-Eskimo, Other. \n",
    "* **sex**: Female, Male. \n",
    "* **capital-gain**: continuous. \n",
    "* **capital-loss**: continuous. \n",
    "* **hours-per-week**: continuous. \n",
    "* **native-country**: United-States, Cambodia, England, Puerto-Rico, Canada, Germany, Outlying-US(Guam-USVI-etc), India, Japan, Greece, South, China, Cuba, Iran, Honduras, Philippines, Italy, Poland, Jamaica, Vietnam, Mexico, Portugal, Ireland, France, Dominican-Republic, Laos, Ecuador, Taiwan, Haiti, Columbia, Hungary, Guatemala, Nicaragua, Scotland, Thailand, Yugoslavia, El-Salvador, Trinadad&Tobago, Peru, Hong, Holand-Netherlands."
   ]
  },
  {
   "cell_type": "markdown",
   "metadata": {},
   "source": [
    "----\n",
    "## Preparing the Data\n",
    "Before data can be used as input for machine learning algorithms, it often must be cleaned, formatted, and restructured — this is typically known as **preprocessing**. Fortunately, for this dataset, there are no invalid or missing entries we must deal with, however, there are some qualities about certain features that must be adjusted. This preprocessing can help tremendously with the outcome and predictive power of nearly all learning algorithms."
   ]
  },
  {
   "cell_type": "markdown",
   "metadata": {},
   "source": [
    "### Transforming Skewed Continuous Features\n",
    "A dataset may sometimes contain at least one feature whose values tend to lie near a single number, but will also have a non-trivial number of vastly larger or smaller values than that single number.  Algorithms can be sensitive to such distributions of values and can underperform if the range is not properly normalized. With the census dataset two features fit this description: '`capital-gain'` and `'capital-loss'`. \n",
    "\n",
    "Run the code cell below to plot a histogram of these two features. Note the range of the values present and how they are distributed."
   ]
  },
  {
   "cell_type": "code",
   "execution_count": 3,
   "metadata": {},
   "outputs": [
    {
     "data": {
      "image/png": "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\n",
      "text/plain": [
       "<matplotlib.figure.Figure at 0x10e5950d0>"
      ]
     },
     "metadata": {},
     "output_type": "display_data"
    }
   ],
   "source": [
    "# Split the data into features and target label\n",
    "income_raw = data['income']\n",
    "features_raw = data.drop('income', axis = 1)\n",
    "\n",
    "# Visualize skewed continuous features of original data\n",
    "vs.distribution(data)"
   ]
  },
  {
   "cell_type": "markdown",
   "metadata": {},
   "source": [
    "For highly-skewed feature distributions such as `'capital-gain'` and `'capital-loss'`, it is common practice to apply a <a href=\"https://en.wikipedia.org/wiki/Data_transformation_(statistics)\">logarithmic transformation</a> on the data so that the very large and very small values do not negatively affect the performance of a learning algorithm. Using a logarithmic transformation significantly reduces the range of values caused by outliers. Care must be taken when applying this transformation however: The logarithm of `0` is undefined, so we must translate the values by a small amount above `0` to apply the the logarithm successfully.\n",
    "\n",
    "Run the code cell below to perform a transformation on the data and visualize the results. Again, note the range of values and how they are distributed. "
   ]
  },
  {
   "cell_type": "code",
   "execution_count": 4,
   "metadata": {},
   "outputs": [
    {
     "data": {
      "image/png": "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\n",
      "text/plain": [
       "<matplotlib.figure.Figure at 0x11393d450>"
      ]
     },
     "metadata": {},
     "output_type": "display_data"
    }
   ],
   "source": [
    "# Log-transform the skewed features\n",
    "skewed = ['capital-gain', 'capital-loss']\n",
    "features_log_transformed = pd.DataFrame(data = features_raw)\n",
    "features_log_transformed[skewed] = features_raw[skewed].apply(lambda x: np.log(x + 1))\n",
    "\n",
    "# Visualize the new log distributions\n",
    "vs.distribution(features_log_transformed, transformed = True)"
   ]
  },
  {
   "cell_type": "markdown",
   "metadata": {},
   "source": [
    "### Normalizing Numerical Features\n",
    "In addition to performing transformations on features that are highly skewed, it is often good practice to perform some type of scaling on numerical features. Applying a scaling to the data does not change the shape of each feature's distribution (such as `'capital-gain'` or `'capital-loss'` above); however, normalization ensures that each feature is treated equally when applying supervised learners. Note that once scaling is applied, observing the data in its raw form will no longer have the same original meaning, as exampled below.\n",
    "\n",
    "Run the code cell below to normalize each numerical feature. We will use [`sklearn.preprocessing.MinMaxScaler`](http://scikit-learn.org/stable/modules/generated/sklearn.preprocessing.MinMaxScaler.html) for this."
   ]
  },
  {
   "cell_type": "code",
   "execution_count": 5,
   "metadata": {},
   "outputs": [
    {
     "data": {
      "text/html": [
       "<div>\n",
       "<style scoped>\n",
       "    .dataframe tbody tr th:only-of-type {\n",
       "        vertical-align: middle;\n",
       "    }\n",
       "\n",
       "    .dataframe tbody tr th {\n",
       "        vertical-align: top;\n",
       "    }\n",
       "\n",
       "    .dataframe thead th {\n",
       "        text-align: right;\n",
       "    }\n",
       "</style>\n",
       "<table border=\"1\" class=\"dataframe\">\n",
       "  <thead>\n",
       "    <tr style=\"text-align: right;\">\n",
       "      <th></th>\n",
       "      <th>age</th>\n",
       "      <th>workclass</th>\n",
       "      <th>education_level</th>\n",
       "      <th>education-num</th>\n",
       "      <th>marital-status</th>\n",
       "      <th>occupation</th>\n",
       "      <th>relationship</th>\n",
       "      <th>race</th>\n",
       "      <th>sex</th>\n",
       "      <th>capital-gain</th>\n",
       "      <th>capital-loss</th>\n",
       "      <th>hours-per-week</th>\n",
       "      <th>native-country</th>\n",
       "    </tr>\n",
       "  </thead>\n",
       "  <tbody>\n",
       "    <tr>\n",
       "      <th>0</th>\n",
       "      <td>0.301370</td>\n",
       "      <td>State-gov</td>\n",
       "      <td>Bachelors</td>\n",
       "      <td>0.800000</td>\n",
       "      <td>Never-married</td>\n",
       "      <td>Adm-clerical</td>\n",
       "      <td>Not-in-family</td>\n",
       "      <td>White</td>\n",
       "      <td>Male</td>\n",
       "      <td>0.667492</td>\n",
       "      <td>0.0</td>\n",
       "      <td>0.397959</td>\n",
       "      <td>United-States</td>\n",
       "    </tr>\n",
       "    <tr>\n",
       "      <th>1</th>\n",
       "      <td>0.452055</td>\n",
       "      <td>Self-emp-not-inc</td>\n",
       "      <td>Bachelors</td>\n",
       "      <td>0.800000</td>\n",
       "      <td>Married-civ-spouse</td>\n",
       "      <td>Exec-managerial</td>\n",
       "      <td>Husband</td>\n",
       "      <td>White</td>\n",
       "      <td>Male</td>\n",
       "      <td>0.000000</td>\n",
       "      <td>0.0</td>\n",
       "      <td>0.122449</td>\n",
       "      <td>United-States</td>\n",
       "    </tr>\n",
       "    <tr>\n",
       "      <th>2</th>\n",
       "      <td>0.287671</td>\n",
       "      <td>Private</td>\n",
       "      <td>HS-grad</td>\n",
       "      <td>0.533333</td>\n",
       "      <td>Divorced</td>\n",
       "      <td>Handlers-cleaners</td>\n",
       "      <td>Not-in-family</td>\n",
       "      <td>White</td>\n",
       "      <td>Male</td>\n",
       "      <td>0.000000</td>\n",
       "      <td>0.0</td>\n",
       "      <td>0.397959</td>\n",
       "      <td>United-States</td>\n",
       "    </tr>\n",
       "    <tr>\n",
       "      <th>3</th>\n",
       "      <td>0.493151</td>\n",
       "      <td>Private</td>\n",
       "      <td>11th</td>\n",
       "      <td>0.400000</td>\n",
       "      <td>Married-civ-spouse</td>\n",
       "      <td>Handlers-cleaners</td>\n",
       "      <td>Husband</td>\n",
       "      <td>Black</td>\n",
       "      <td>Male</td>\n",
       "      <td>0.000000</td>\n",
       "      <td>0.0</td>\n",
       "      <td>0.397959</td>\n",
       "      <td>United-States</td>\n",
       "    </tr>\n",
       "    <tr>\n",
       "      <th>4</th>\n",
       "      <td>0.150685</td>\n",
       "      <td>Private</td>\n",
       "      <td>Bachelors</td>\n",
       "      <td>0.800000</td>\n",
       "      <td>Married-civ-spouse</td>\n",
       "      <td>Prof-specialty</td>\n",
       "      <td>Wife</td>\n",
       "      <td>Black</td>\n",
       "      <td>Female</td>\n",
       "      <td>0.000000</td>\n",
       "      <td>0.0</td>\n",
       "      <td>0.397959</td>\n",
       "      <td>Cuba</td>\n",
       "    </tr>\n",
       "  </tbody>\n",
       "</table>\n",
       "</div>"
      ],
      "text/plain": [
       "        age          workclass education_level  education-num  \\\n",
       "0  0.301370          State-gov       Bachelors       0.800000   \n",
       "1  0.452055   Self-emp-not-inc       Bachelors       0.800000   \n",
       "2  0.287671            Private         HS-grad       0.533333   \n",
       "3  0.493151            Private            11th       0.400000   \n",
       "4  0.150685            Private       Bachelors       0.800000   \n",
       "\n",
       "        marital-status          occupation    relationship    race      sex  \\\n",
       "0        Never-married        Adm-clerical   Not-in-family   White     Male   \n",
       "1   Married-civ-spouse     Exec-managerial         Husband   White     Male   \n",
       "2             Divorced   Handlers-cleaners   Not-in-family   White     Male   \n",
       "3   Married-civ-spouse   Handlers-cleaners         Husband   Black     Male   \n",
       "4   Married-civ-spouse      Prof-specialty            Wife   Black   Female   \n",
       "\n",
       "   capital-gain  capital-loss  hours-per-week  native-country  \n",
       "0      0.667492           0.0        0.397959   United-States  \n",
       "1      0.000000           0.0        0.122449   United-States  \n",
       "2      0.000000           0.0        0.397959   United-States  \n",
       "3      0.000000           0.0        0.397959   United-States  \n",
       "4      0.000000           0.0        0.397959            Cuba  "
      ]
     },
     "metadata": {},
     "output_type": "display_data"
    }
   ],
   "source": [
    "# Import sklearn.preprocessing.StandardScaler\n",
    "from sklearn.preprocessing import MinMaxScaler\n",
    "\n",
    "# Initialize a scaler, then apply it to the features\n",
    "scaler = MinMaxScaler() # default=(0, 1)\n",
    "numerical = ['age', 'education-num', 'capital-gain', 'capital-loss', 'hours-per-week']\n",
    "\n",
    "features_log_minmax_transform = pd.DataFrame(data = features_log_transformed)\n",
    "features_log_minmax_transform[numerical] = scaler.fit_transform(features_log_transformed[numerical])\n",
    "\n",
    "# Show an example of a record with scaling applied\n",
    "display(features_log_minmax_transform.head(n = 5))"
   ]
  },
  {
   "cell_type": "markdown",
   "metadata": {},
   "source": [
    "### Implementation: Data Preprocessing\n",
    "\n",
    "From the table in **Exploring the Data** above, we can see there are several features for each record that are non-numeric. Typically, learning algorithms expect input to be numeric, which requires that non-numeric features (called *categorical variables*) be converted. One popular way to convert categorical variables is by using the **one-hot encoding** scheme. One-hot encoding creates a _\"dummy\"_ variable for each possible category of each non-numeric feature. For example, assume `someFeature` has three possible entries: `A`, `B`, or `C`. We then encode this feature into `someFeature_A`, `someFeature_B` and `someFeature_C`.\n",
    "\n",
    "|   | someFeature |                    | someFeature_A | someFeature_B | someFeature_C |\n",
    "| :-: | :-: |                            | :-: | :-: | :-: |\n",
    "| 0 |  B  |  | 0 | 1 | 0 |\n",
    "| 1 |  C  | ----> one-hot encode ----> | 0 | 0 | 1 |\n",
    "| 2 |  A  |  | 1 | 0 | 0 |\n",
    "\n",
    "Additionally, as with the non-numeric features, we need to convert the non-numeric target label, `'income'` to numerical values for the learning algorithm to work. Since there are only two possible categories for this label (\"<=50K\" and \">50K\"), we can avoid using one-hot encoding and simply encode these two categories as `0` and `1`, respectively. In code cell below, you will need to implement the following:\n",
    " - Use [`pandas.get_dummies()`](http://pandas.pydata.org/pandas-docs/stable/generated/pandas.get_dummies.html?highlight=get_dummies#pandas.get_dummies) to perform one-hot encoding on the `'features_raw'` data.\n",
    " - Convert the target label `'income_raw'` to numerical entries.\n",
    "   - Set records with \"<=50K\" to `0` and records with \">50K\" to `1`."
   ]
  },
  {
   "cell_type": "code",
   "execution_count": 6,
   "metadata": {
    "scrolled": true
   },
   "outputs": [
    {
     "name": "stdout",
     "output_type": "stream",
     "text": [
      "103 total features after one-hot encoding.\n"
     ]
    }
   ],
   "source": [
    "# TODO: One-hot encode the 'features_log_minmax_transform' data using pandas.get_dummies()\n",
    "features_final = pd.get_dummies(features_log_minmax_transform)\n",
    "\n",
    "# TODO: Encode the 'income_raw' data to numerical values\n",
    "income = income_raw.map({'<=50K' : 0, '>50K': 1 })\n",
    "\n",
    "# Print the number of features after one-hot encoding\n",
    "encoded = list(features_final.columns)\n",
    "print \"{} total features after one-hot encoding.\".format(len(encoded))\n",
    "\n",
    "# Uncomment the following line to see the encoded feature names\n",
    "#print encoded"
   ]
  },
  {
   "cell_type": "markdown",
   "metadata": {},
   "source": [
    "### Shuffle and Split Data\n",
    "Now all _categorical variables_ have been converted into numerical features, and all numerical features have been normalized. As always, we will now split the data (both features and their labels) into training and test sets. 80% of the data will be used for training and 20% for testing.\n",
    "\n",
    "Run the code cell below to perform this split."
   ]
  },
  {
   "cell_type": "code",
   "execution_count": 7,
   "metadata": {},
   "outputs": [
    {
     "name": "stdout",
     "output_type": "stream",
     "text": [
      "Training set has 36177 samples.\n",
      "Testing set has 9045 samples.\n"
     ]
    },
    {
     "name": "stderr",
     "output_type": "stream",
     "text": [
      "/Users/larsjaakkohavro/anaconda/lib/python2.7/site-packages/sklearn/cross_validation.py:41: DeprecationWarning: This module was deprecated in version 0.18 in favor of the model_selection module into which all the refactored classes and functions are moved. Also note that the interface of the new CV iterators are different from that of this module. This module will be removed in 0.20.\n",
      "  \"This module will be removed in 0.20.\", DeprecationWarning)\n"
     ]
    }
   ],
   "source": [
    "# Import train_test_split\n",
    "from sklearn.cross_validation import train_test_split\n",
    "\n",
    "# Split the 'features' and 'income' data into training and testing sets\n",
    "X_train, X_test, y_train, y_test = train_test_split(features_final, \n",
    "                                                    income, \n",
    "                                                    test_size = 0.2, \n",
    "                                                    random_state = 0)\n",
    "\n",
    "# Show the results of the split\n",
    "print \"Training set has {} samples.\".format(X_train.shape[0])\n",
    "print \"Testing set has {} samples.\".format(X_test.shape[0])"
   ]
  },
  {
   "cell_type": "markdown",
   "metadata": {},
   "source": [
    "----\n",
    "## Evaluating Model Performance\n",
    "In this section, we will investigate four different algorithms, and determine which is best at modeling the data. Three of these algorithms will be supervised learners of your choice, and the fourth algorithm is known as a *naive predictor*."
   ]
  },
  {
   "cell_type": "markdown",
   "metadata": {},
   "source": [
    "### Metrics and the Naive Predictor\n",
    "*CharityML*, equipped with their research, knows individuals that make more than \\$50,000 are most likely to donate to their charity. Because of this, *CharityML* is particularly interested in predicting who makes more than \\$50,000 accurately. It would seem that using **accuracy** as a metric for evaluating a particular model's performace would be appropriate. Additionally, identifying someone that *does not* make more than \\$50,000 as someone who does would be detrimental to *CharityML*, since they are looking to find individuals willing to donate. Therefore, a model's ability to precisely predict those that make more than \\$50,000 is *more important* than the model's ability to **recall** those individuals. We can use **F-beta score** as a metric that considers both precision and recall:\n",
    "\n",
    "$$ F_{\\beta} = (1 + \\beta^2) \\cdot \\frac{precision \\cdot recall}{\\left( \\beta^2 \\cdot precision \\right) + recall} $$\n",
    "\n",
    "In particular, when $\\beta = 0.5$, more emphasis is placed on precision. This is called the **F$_{0.5}$ score** (or F-score for simplicity).\n",
    "\n",
    "Looking at the distribution of classes (those who make at most \\$50,000, and those who make more), it's clear most individuals do not make more than \\$50,000. This can greatly affect **accuracy**, since we could simply say *\"this person does not make more than \\$50,000\"* and generally be right, without ever looking at the data! Making such a statement would be called **naive**, since we have not considered any information to substantiate the claim. It is always important to consider the *naive prediction* for your data, to help establish a benchmark for whether a model is performing well. That been said, using that prediction would be pointless: If we predicted all people made less than \\$50,000, *CharityML* would identify no one as donors. \n",
    "\n",
    "\n",
    "#### Note: Recap of accuracy, precision, recall\n",
    "\n",
    "** Accuracy ** measures how often the classifier makes the correct prediction. It’s the ratio of the number of correct predictions to the total number of predictions (the number of test data points).\n",
    "\n",
    "** Precision ** tells us what proportion of messages we classified as spam, actually were spam.\n",
    "It is a ratio of true positives(words classified as spam, and which are actually spam) to all positives(all words classified as spam, irrespective of whether that was the correct classificatio), in other words it is the ratio of\n",
    "\n",
    "`[True Positives/(True Positives + False Positives)]`\n",
    "\n",
    "** Recall(sensitivity)** tells us what proportion of messages that actually were spam were classified by us as spam.\n",
    "It is a ratio of true positives(words classified as spam, and which are actually spam) to all the words that were actually spam, in other words it is the ratio of\n",
    "\n",
    "`[True Positives/(True Positives + False Negatives)]`\n",
    "\n",
    "For classification problems that are skewed in their classification distributions like in our case, for example if we had a 100 text messages and only 2 were spam and the rest 98 weren't, accuracy by itself is not a very good metric. We could classify 90 messages as not spam(including the 2 that were spam but we classify them as not spam, hence they would be false negatives) and 10 as spam(all 10 false positives) and still get a reasonably good accuracy score. For such cases, precision and recall come in very handy. These two metrics can be combined to get the F1 score, which is weighted average(harmonic mean) of the precision and recall scores. This score can range from 0 to 1, with 1 being the best possible F1 score(we take the harmonic mean as we are dealing with ratios)."
   ]
  },
  {
   "cell_type": "markdown",
   "metadata": {},
   "source": [
    "### Question 1 - Naive Predictor Performace\n",
    "* If we chose a model that always predicted an individual made more than $50,000, what would  that model's accuracy and F-score be on this dataset? You must use the code cell below and assign your results to `'accuracy'` and `'fscore'` to be used later.\n",
    "\n",
    "** Please note ** that the the purpose of generating a naive predictor is simply to show what a base model without any intelligence would look like. In the real world, ideally your base model would be either the results of a previous model or could be based on a research paper upon which you are looking to improve. When there is no benchmark model set, getting a result better than random choice is a place you could start from.\n",
    "\n",
    "** HINT: ** \n",
    "\n",
    "* When we have a model that always predicts '1' (i.e. the individual makes more than 50k) then our model will have no True Negatives(TN) or False Negatives(FN) as we are not making any negative('0' value) predictions. Therefore our Accuracy in this case becomes the same as our Precision(True Positives/(True Positives + False Positives)) as every prediction that we have made with value '1' that should have '0' becomes a False Positive; therefore our denominator in this case is the total number of records we have in total. \n",
    "* Our Recall score(True Positives/(True Positives + False Negatives)) in this setting becomes 1 as we have no False Negatives."
   ]
  },
  {
   "cell_type": "code",
   "execution_count": 8,
   "metadata": {},
   "outputs": [
    {
     "name": "stdout",
     "output_type": "stream",
     "text": [
      "Naive Predictor: [Accuracy score: 0.2478, F-score: 0.6223]\n"
     ]
    }
   ],
   "source": [
    "total = income.count()\n",
    "TP = np.sum(income) # Counting the ones as this is the naive case. \n",
    "                    # Note that 'income' is the 'income_raw' data encoded to numerical values done in the data preprocessing step.\n",
    "    \n",
    "FP = income.count() - TP # Specific to the naive case\n",
    "\n",
    "TN = 0 # No predicted negatives in the naive case\n",
    "FN = 0 # No predicted negatives in the naive case\n",
    "\n",
    "# TODO: Calculate accuracy, precision and recall\n",
    "accuracy = TP / total\n",
    "recall = TP /(TP + FP)\n",
    "precision = TP / (TP + FN) # Logically will default to 1 in the naïve case\n",
    "\n",
    "# TODO: Calculate F-score using the formula above for beta = 0.5 and correct values for precision and recall.\n",
    "# HINT: The formula above can be written as (1 + beta**2) * (precision * recall) / ((beta**2 * precision) + recall)\n",
    "# How is this a hint? That's the actual answer.\n",
    "\n",
    "beta = 0.5\n",
    "fscore = (1 + beta**2) * (precision * recall) / ((beta**2 * precision) + recall)\n",
    "\n",
    "# Print the results \n",
    "print \"Naive Predictor: [Accuracy score: {:.4f}, F-score: {:.4f}]\".format(accuracy, fscore)"
   ]
  },
  {
   "cell_type": "markdown",
   "metadata": {},
   "source": [
    "###  Supervised Learning Models\n",
    "**The following are some of the supervised learning models that are currently available in** [`scikit-learn`](http://scikit-learn.org/stable/supervised_learning.html) **that you may choose from:**\n",
    "- Gaussian Naive Bayes (GaussianNB)\n",
    "- Decision Trees\n",
    "- Ensemble Methods (Bagging, AdaBoost, Random Forest, Gradient Boosting)\n",
    "- K-Nearest Neighbors (KNeighbors)\n",
    "- Stochastic Gradient Descent Classifier (SGDC)\n",
    "- Support Vector Machines (SVM)\n",
    "- Logistic Regression"
   ]
  },
  {
   "cell_type": "markdown",
   "metadata": {},
   "source": [
    "### Question 2 - Model Application\n",
    "List three of the supervised learning models above that are appropriate for this problem that you will test on the census data. For each model chosen\n",
    "\n",
    "- Describe one real-world application in industry where the model can be applied. \n",
    "- What are the strengths of the model; when does it perform well?\n",
    "- What are the weaknesses of the model; when does it perform poorly?\n",
    "- What makes this model a good candidate for the problem, given what you know about the data?\n",
    "\n",
    "** HINT: **\n",
    "\n",
    "Structure your answer in the same format as above^, with 4 parts for each of the three models you pick. Please include references with your answer."
   ]
  },
  {
   "cell_type": "markdown",
   "metadata": {},
   "source": [
    "**Answer: **\n",
    "\n",
    "\n",
    "**1. Decision trees**\n",
    "- **Real world application:** As described [here](http://citeseerx.ist.psu.edu/viewdoc/download?doi=10.1.1.90.5327&rep=rep1&type=pdf), decision trees can have many useful applications, for instance in characterization of leiomyomatous tumors and predicting library book use. We can also find references of use in [pricing financial instruments](https://www.investopedia.com/articles/financial-theory/11/decisions-trees-finance.asp).\n",
    "- **Strengths:** Decision trees are quite simple in nature, and are easy to visualize, which makes it easier to  understand how the model works. This can be helpful for many business applications, as it can give decision makers additional intuition about the problem space. \n",
    "Also, as mentioned in [various](https://discuss.analyticsvidhya.com/t/how-are-decision-trees-not-sensitive-to-skewed-distributions/2158/2) [forums](https://www.quora.com/What-are-the-advantages-of-using-a-decision-tree-for-classification) the decision tree classifiers are less sensitive to skewed data than other methods, for instance SVMs. \n",
    "- **Weaknesses:** Decision trees are prone to overfitting, unless pruned or limited in size. Also [mentioned](https://stats.stackexchange.com/questions/1292/what-is-the-weak-side-of-decision-trees) is that decision trees may be overly sensitive to small changes in the data, or may have poor out-of-sample predictions, since the decision boundary is non-smooth.\n",
    "- **Problem fit:** The problem faced in this exercise lends itself well to a visual decision tree, as the features and outcome variables are all very understandable/tangible for humans — a decision tree and its logic will be easy to communicate to decision makers. In addition, our dataset is somewhat skewed, which a decision tree should handle nicely. Something like a standard SVM would potentially not be as usable for skewed data, according to [several](http://www.cs.ox.ac.uk/people/vasile.palade/papers/Class-Imbalance-SVM.pdf) [sources](https://www.quora.com/For-what-kind-of-classification-problems-is-SVM-a-bad-approach).\n",
    "\n",
    "**2. Random forests**\n",
    "I'm including random forests here since they're so related to the decision trees, but should be able to mitigate some of their shortcomings. Should be interesting to see.\n",
    "- **Real world application:** Random forests are used for all kinds of classification (and regression) applications. One example can be [early identification of diabetic retinopathy](https://www.ncbi.nlm.nih.gov/pmc/articles/PMC4062420/), a common cause of blindness. \n",
    "- **Strengths:** Random forests are [simple to train, versatile, accurate](https://medium.com/rants-on-machine-learning/the-unreasonable-effectiveness-of-random-forests-f33c3ce28883), and [should not overfit as much as the single decision trees are prone to](https://www.stat.berkeley.edu/~breiman/RandomForests/cc_home.htm).\n",
    "- **Weaknesses:** Random forests unfortunately do not share the visual and intuitive quality as its single-tree brothers, as the algorithm \"hides\" the exact logic for splitting the features. Some mention [random forests being memory intensive if the number of trees is large](https://www.quora.com/When-is-a-random-forest-a-poor-choice-relative-to-other-algorithms). Also of note, there are apparently issues with sklearn's implementation and requirement of one-hot encoding categorical variables, as random forests (and decision trees) [should work better with pure categorical variables](https://roamanalytics.com/2016/10/28/are-categorical-variables-getting-lost-in-your-random-forests/). A fix is [proposed for sklearn](https://github.com/scikit-learn/scikit-learn/pull/4899), but this is not yet merged — we'll have to live with it for now. \n",
    "- **Problem fit:** Sklearns numerical requirement notwithstanding, the random forest should work well for our problem data. Skewed data should not be a problem. Random forests are not able to predict values outside the range of the dependent variable, which shouldn't be an issue here, since we have a classification problem.\n",
    "\n",
    "**3. Gradient Boosting**\n",
    "To continue with a suite of tree-based classifiers, we'll finish off with gradient boosting. Instead of training trees in parallell, like the above, this method trains trees in sequence; each tree improving on the previous tree.\n",
    "- **Real world application:** Same as the two above, it is used for myriad classification problems. According to [Wikipedia](https://en.wikipedia.org/wiki/Gradient_boosting#Usage), Gradient Boosting is used by search engines to rank results.  \n",
    "- **Strengths:** Gradient Boosting should work well for the same use cases as the two other methods. \n",
    "- **Weaknesses:** Gradient boosting [can be more resource intensive to train](https://databricks.com/blog/2015/01/21/random-forests-and-boosting-in-mllib.html). Gradient boosted trees are also reportedly [more prone to overfitting](https://www.quora.com/What-are-the-advantages-disadvantages-of-using-Gradient-Boosting-over-Random-Forests) than random forests, and may require more tuning to generalize well.\n",
    "- **Problem fit:** I have not been able to find many reports or sources that suggest that gradient boosting should not work well with this type of dataset. From what I can find it seems to be very [flexible and robust](https://www.quora.com/Why-does-Gradient-boosting-work-so-well-for-so-many-Kaggle-problems). It can struggle when it deals with datasets with a [high number of dimensions and sparse data](http://www.stat.ucdavis.edu/~chohsieh/rf/icml_sparse_GBDT.pdf), but I do not expect 103 features over 37k samples should be a problem. \n"
   ]
  },
  {
   "cell_type": "markdown",
   "metadata": {},
   "source": [
    "### Implementation - Creating a Training and Predicting Pipeline\n",
    "To properly evaluate the performance of each model you've chosen, it's important that you create a training and predicting pipeline that allows you to quickly and effectively train models using various sizes of training data and perform predictions on the testing data. Your implementation here will be used in the following section.\n",
    "In the code block below, you will need to implement the following:\n",
    " - Import `fbeta_score` and `accuracy_score` from [`sklearn.metrics`](http://scikit-learn.org/stable/modules/classes.html#sklearn-metrics-metrics).\n",
    " - Fit the learner to the sampled training data and record the training time.\n",
    " - Perform predictions on the test data `X_test`, and also on the first 300 training points `X_train[:300]`.\n",
    "   - Record the total prediction time.\n",
    " - Calculate the accuracy score for both the training subset and testing set.\n",
    " - Calculate the F-score for both the training subset and testing set.\n",
    "   - Make sure that you set the `beta` parameter!"
   ]
  },
  {
   "cell_type": "code",
<<<<<<< HEAD
   "execution_count": 37,
   "metadata": {
    "collapsed": true
   },
=======
   "execution_count": 9,
   "metadata": {},
>>>>>>> f7e855e8b6400e107fdfa5c62c2e59496c478744
   "outputs": [],
   "source": [
    "# TODO: Import two metrics from sklearn - fbeta_score and accuracy_score\n",
    "from sklearn.metrics import fbeta_score, accuracy_score\n",
    "\n",
    "def train_predict(learner, sample_size, X_train, y_train, X_test, y_test): \n",
    "    '''\n",
    "    inputs:\n",
    "       - learner: the learning algorithm to be trained and predicted on\n",
    "       - sample_size: the size of samples (number) to be drawn from training set\n",
    "       - X_train: features training set\n",
    "       - y_train: income training set\n",
    "       - X_test: features testing set\n",
    "       - y_test: income testing set\n",
    "    '''\n",
    "    \n",
    "    results = {}\n",
    "    \n",
    "    # TODO: Fit the learner to the training data using slicing with 'sample_size' using .fit(training_features[:], training_labels[:])\n",
    "    start = time() # Get start time\n",
    "    learner = learner.fit(X_train[:sample_size], y_train[:sample_size])\n",
    "    end = time() # Get end time\n",
    "    \n",
    "    # TODO: Calculate the training time\n",
    "    results['train_time'] = end - start\n",
    "        \n",
    "    # TODO: Get the predictions on the test set(X_test),\n",
    "    #       then get predictions on the first 300 training samples(X_train) using .predict()\n",
    "    start = time() # Get start time\n",
    "    predictions_test = learner.predict(X_test)\n",
    "    predictions_train = learner.predict(X_train[:300])\n",
    "    end = time() # Get end time\n",
    "    \n",
    "    # TODO: Calculate the total prediction time\n",
    "    results['pred_time'] = end - start\n",
    "            \n",
    "    # TODO: Compute accuracy on the first 300 training samples which is y_train[:300]\n",
    "    results['acc_train'] = accuracy_score(y_train[:300], predictions_train)\n",
    "        \n",
    "    # TODO: Compute accuracy on test set using accuracy_score()\n",
    "    results['acc_test'] = accuracy_score(y_test, predictions_test)\n",
    "    \n",
    "    # TODO: Compute F-score on the the first 300 training samples using fbeta_score()\n",
    "    # Using beta score defined a few cells earlier\n",
    "    results['f_train'] = fbeta_score(y_train[:300], predictions_train, beta)\n",
    "        \n",
    "    # TODO: Compute F-score on the test set which is y_test\n",
    "    results['f_test'] = fbeta_score(y_test, predictions_test, beta)\n",
    "       \n",
    "    # Success\n",
    "    print \"{} trained on {} samples.\".format(learner.__class__.__name__, sample_size)\n",
    "        \n",
    "    # Return the results\n",
    "    return results"
   ]
  },
  {
   "cell_type": "markdown",
   "metadata": {},
   "source": [
    "### Implementation: Initial Model Evaluation\n",
    "In the code cell, you will need to implement the following:\n",
    "- Import the three supervised learning models you've discussed in the previous section.\n",
    "- Initialize the three models and store them in `'clf_A'`, `'clf_B'`, and `'clf_C'`.\n",
    "  - Use a `'random_state'` for each model you use, if provided.\n",
    "  - **Note:** Use the default settings for each model — you will tune one specific model in a later section.\n",
    "- Calculate the number of records equal to 1%, 10%, and 100% of the training data.\n",
    "  - Store those values in `'samples_1'`, `'samples_10'`, and `'samples_100'` respectively.\n",
    "\n",
    "**Note:** Depending on which algorithms you chose, the following implementation may take some time to run!"
   ]
  },
  {
   "cell_type": "code",
<<<<<<< HEAD
   "execution_count": 44,
=======
   "execution_count": 10,
>>>>>>> f7e855e8b6400e107fdfa5c62c2e59496c478744
   "metadata": {},
   "outputs": [
    {
     "name": "stdout",
     "output_type": "stream",
     "text": [
      "DecisionTreeClassifier trained on 361 samples.\n",
      "DecisionTreeClassifier trained on 3617 samples.\n",
      "DecisionTreeClassifier trained on 36177 samples.\n",
      "RandomForestClassifier trained on 361 samples.\n",
      "RandomForestClassifier trained on 3617 samples.\n",
      "RandomForestClassifier trained on 36177 samples.\n",
      "GradientBoostingClassifier trained on 361 samples.\n",
      "GradientBoostingClassifier trained on 3617 samples.\n",
      "GradientBoostingClassifier trained on 36177 samples.\n"
     ]
    },
    {
     "data": {
<<<<<<< HEAD
      "image/png": "iVBORw0KGgoAAAANSUhEUgAAAxcAAAIuCAYAAADNIvXtAAAABHNCSVQICAgIfAhkiAAAAAlwSFlz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\nTkSuQmCC\n",
      "text/plain": [
       "<matplotlib.figure.Figure at 0x120443050>"
=======
      "image/png": "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\n",
      "text/plain": [
       "<matplotlib.figure.Figure at 0x11396a610>"
>>>>>>> f7e855e8b6400e107fdfa5c62c2e59496c478744
      ]
     },
     "metadata": {},
     "output_type": "display_data"
    }
   ],
   "source": [
    "# TODO: Import the three supervised learning models from sklearn\n",
    "from sklearn.tree import DecisionTreeClassifier\n",
    "from sklearn.ensemble import RandomForestClassifier\n",
    "from sklearn.ensemble import GradientBoostingClassifier\n",
    "\n",
    "# TODO: Initialize the three models\n",
    "clf_A = DecisionTreeClassifier(random_state=49)\n",
    "clf_B = RandomForestClassifier(random_state=49)\n",
    "clf_C = GradientBoostingClassifier(random_state=49)\n",
    "\n",
    "# TODO: Calculate the number of samples for 1%, 10%, and 100% of the training data\n",
    "# HINT: samples_100 is the entire training set i.e. len(y_train)\n",
    "# HINT: samples_10 is 10% of samples_100\n",
    "# HINT: samples_1 is 1% of samples_100\n",
    "samples_100 = len(y_train)\n",
    "samples_10 = int(len(y_train) * 0.1)\n",
    "samples_1 = int(len(y_train) * 0.01)\n",
    "\n",
    "# Collect results on the learners\n",
    "results = {}\n",
    "for clf in [clf_A, clf_B, clf_C]:\n",
    "    clf_name = clf.__class__.__name__\n",
    "    results[clf_name] = {}\n",
    "    for i, samples in enumerate([samples_1, samples_10, samples_100]):\n",
    "        results[clf_name][i] = \\\n",
    "        train_predict(clf, samples, X_train, y_train, X_test, y_test)\n",
    "\n",
    "# Run metrics visualization for the three supervised learning models chosen\n",
    "vs.evaluate(results, accuracy, fscore)"
   ]
  },
  {
   "cell_type": "markdown",
   "metadata": {},
   "source": [
    "----\n",
    "## Improving Results\n",
    "In this final section, you will choose from the three supervised learning models the *best* model to use on the student data. You will then perform a grid search optimization for the model over the entire training set (`X_train` and `y_train`) by tuning at least one parameter to improve upon the untuned model's F-score. "
   ]
  },
  {
   "cell_type": "markdown",
   "metadata": {},
   "source": [
    "### Question 3 - Choosing the Best Model\n",
    "\n",
    "* Based on the evaluation you performed earlier, in one to two paragraphs, explain to *CharityML* which of the three models you believe to be most appropriate for the task of identifying individuals that make more than \\$50,000. \n",
    "\n",
    "** HINT: ** \n",
    "Look at the graph at the bottom left from the cell above(the visualization created by `vs.evaluate(results, accuracy, fscore)`) and check the F score for the testing set when 100% of the training set is used. Which model has the highest score? Your answer should include discussion of the:\n",
    "* metrics - F score on the testing when 100% of the training data is used, \n",
    "* prediction/training time\n",
    "* the algorithm's suitability for the data."
   ]
  },
  {
   "cell_type": "markdown",
   "metadata": {},
   "source": [
    "**Answer: **\n",
<<<<<<< HEAD
    "The model I suggest we choose is the GradientBoost model, as it is the most accurate one across the board — both for a pure accuracy score, but also for the more relevant F-score. GradientBoost has a slightly lower performance when predicting on the training set, but seems to generalize better than the two others. The GradientBoost model should be well suited for the type of data we have, it's flexible and handles skew in stride. Our dimensionality of 103 features does not seem to pose any problems either. \n",
    "\n",
    "We should note that the RandomForest classifier is not very far behind in terms of accuracy, and is trained significantly faster than the GradientBoost classifier. If the final volume of data is very large, the RandomForest classifier may give a better trade-off between speed and accuracy. As it stands, however, a 10 second training time should be fully acceptable."
=======
    "\n",
    "Based on the previous evaluation, I would recommend that CharityML use the gradient boost model for its purposes. All three algorithms are related, so they share many of the same strengths and weaknesses with regards to the suitability for the task. Gradient boost is the one that consistently posts the highest F-score on the test data, and is also faster than the RandomForest classifier when training on the full training data."
>>>>>>> f7e855e8b6400e107fdfa5c62c2e59496c478744
   ]
  },
  {
   "cell_type": "markdown",
   "metadata": {},
   "source": [
    "### Question 4 - Describing the Model in Layman's Terms\n",
    "\n",
    "* In one to two paragraphs, explain to *CharityML*, in layman's terms, how the final model chosen is supposed to work. Be sure that you are describing the major qualities of the model, such as how the model is trained and how the model makes a prediction. Avoid using advanced mathematical jargon, such as describing equations.\n",
    "\n",
    "** HINT: **\n",
    "\n",
    "When explaining your model, if using external resources please include all citations."
   ]
  },
  {
   "cell_type": "markdown",
   "metadata": {},
   "source": [
    "**Answer: ** \n",
    "\n",
    "Gradient boosting is a so-called ensemble method, which simply put combines several 'weak' models into a stronger one. From [Wikipedia]():\n",
    "\n",
    ">A weak learner is defined to be a classifier which is only slightly correlated with the true classification (it can label examples better than random guessing). In contrast, a strong learner is a classifier that is arbitrarily well-correlated with the true classification.\n",
    "\n",
    "The gradient boosting combines several [decision trees](https://en.wikipedia.org/wiki/Decision_tree_learning) in sequence, where each tree seeks to improve on the predictions made by the preceding trees. After each weak model has been trained, the next tree is given inputs where the remaining errors (misclassifications) from the preceding trees are given higher weights (i.e. being emphasized) than the points that are correctly classified. In this way, each tree is focusing on subsets of the training data, and the combination of all trees ends up giving a decent approximation for the whole data set."
   ]
  },
  {
   "cell_type": "markdown",
   "metadata": {},
   "source": [
    "### Implementation: Model Tuning\n",
    "Fine tune the chosen model. Use grid search (`GridSearchCV`) with at least one important parameter tuned with at least 3 different values. You will need to use the entire training set for this. In the code cell below, you will need to implement the following:\n",
    "- Import [`sklearn.grid_search.GridSearchCV`](http://scikit-learn.org/0.17/modules/generated/sklearn.grid_search.GridSearchCV.html) and [`sklearn.metrics.make_scorer`](http://scikit-learn.org/stable/modules/generated/sklearn.metrics.make_scorer.html).\n",
    "- Initialize the classifier you've chosen and store it in `clf`.\n",
    " - Set a `random_state` if one is available to the same state you set before.\n",
    "- Create a dictionary of parameters you wish to tune for the chosen model.\n",
    " - Example: `parameters = {'parameter' : [list of values]}`.\n",
    " - **Note:** Avoid tuning the `max_features` parameter of your learner if that parameter is available!\n",
    "- Use `make_scorer` to create an `fbeta_score` scoring object (with $\\beta = 0.5$).\n",
    "- Perform grid search on the classifier `clf` using the `'scorer'`, and store it in `grid_obj`.\n",
    "- Fit the grid search object to the training data (`X_train`, `y_train`), and store it in `grid_fit`.\n",
    "\n",
    "**Note:** Depending on the algorithm chosen and the parameter list, the following implementation may take some time to run!"
   ]
  },
  {
   "cell_type": "code",
<<<<<<< HEAD
   "execution_count": 54,
=======
   "execution_count": 19,
>>>>>>> f7e855e8b6400e107fdfa5c62c2e59496c478744
   "metadata": {},
   "outputs": [
    {
     "name": "stdout",
     "output_type": "stream",
     "text": [
      "Unoptimized model\n",
      "------\n",
      "Accuracy score on testing data: 0.8630\n",
      "F-score on testing data: 0.7395\n",
      "\n",
      "Optimized Model\n",
      "------\n",
<<<<<<< HEAD
      "Final accuracy score on the testing data: 0.8708\n",
      "Final F-score on the testing data: 0.7521\n",
      "Total time was 379.053828001\n"
=======
      "Final accuracy score on the testing data: 0.8701\n",
      "Final F-score on the testing data: 0.7502\n"
>>>>>>> f7e855e8b6400e107fdfa5c62c2e59496c478744
     ]
    }
   ],
   "source": [
    "# TODO: Import 'GridSearchCV', 'make_scorer', and any other necessary libraries\n",
    "from sklearn.grid_search import GridSearchCV\n",
    "from sklearn.metrics import make_scorer\n",
    "\n",
    "start = time()\n",
    "\n",
    "from sklearn.ensemble import GradientBoostingClassifier\n",
    "from sklearn.model_selection import GridSearchCV\n",
    "from sklearn.metrics import fbeta_score, make_scorer\n",
    "\n",
    "# TODO: Initialize the classifier\n",
<<<<<<< HEAD
    "clf = GradientBoostingClassifier(random_state = 1337)\n",
    "\n",
    "# TODO: Create the parameters list you wish to tune, using a dictionary if needed.\n",
    "# HINT: parameters = {'parameter_1': [value1, value2], 'parameter_2': [value1, value2]}\n",
    "parameters = {'learning_rate' : [0.2, 0.1],\n",
    "              'max_depth' : [3, 4],\n",
    "              'min_samples_leaf' : [2, 3],\n",
    "              'min_samples_split' : [6, 8]\n",
    "             }\n",
=======
    "clf = GradientBoostingClassifier(random_state=49)\n",
    "\n",
    "# TODO: Create the parameters list you wish to tune, using a dictionary if needed.\n",
    "# HINT: parameters = {'parameter_1': [value1, value2], 'parameter_2': [value1, value2]}\n",
    "parameters = {'learning_rate': [0.2, 0.1, 0.05],\n",
    "              'max_depth': [2, 4, 6],\n",
    "              'min_samples_leaf': [10, 20, 50],\n",
    "              }\n",
>>>>>>> f7e855e8b6400e107fdfa5c62c2e59496c478744
    "\n",
    "# TODO: Make an fbeta_score scoring object using make_scorer()\n",
    "scorer = make_scorer(fbeta_score, beta=0.5)\n",
    "\n",
    "# TODO: Perform grid search on the classifier using 'scorer' as the scoring method using GridSearchCV()\n",
<<<<<<< HEAD
    "grid_obj = GridSearchCV(clf, scoring=scorer, param_grid = parameters)\n",
=======
    "grid_obj = GridSearchCV(estimator=clf, \n",
    "                        param_grid=parameters, \n",
    "                        scoring=scorer)\n",
>>>>>>> f7e855e8b6400e107fdfa5c62c2e59496c478744
    "\n",
    "# TODO: Fit the grid search object to the training data and find the optimal parameters using fit()\n",
    "grid_fit = grid_obj.fit(X_train, y_train)\n",
    "\n",
    "# Get the estimator\n",
    "best_clf = grid_fit.best_estimator_\n",
    "\n",
    "# Make predictions using the unoptimized and model\n",
    "predictions = (clf.fit(X_train, y_train)).predict(X_test)\n",
    "best_predictions = best_clf.predict(X_test)\n",
    "\n",
    "end = time()\n",
    "total = end-start\n",
    "\n",
    "# Report the before-and-afterscores\n",
    "print \"Unoptimized model\\n------\"\n",
    "print \"Accuracy score on testing data: {:.4f}\".format(accuracy_score(y_test, predictions))\n",
    "print \"F-score on testing data: {:.4f}\".format(fbeta_score(y_test, predictions, beta = 0.5))\n",
    "print \"\\nOptimized Model\\n------\"\n",
    "print \"Final accuracy score on the testing data: {:.4f}\".format(accuracy_score(y_test, best_predictions))\n",
    "print \"Final F-score on the testing data: {:.4f}\".format(fbeta_score(y_test, best_predictions, beta = 0.5))\n",
    "print \"Total time was {}\".format(str(total))"
   ]
  },
  {
   "cell_type": "code",
   "execution_count": 55,
   "metadata": {},
   "outputs": [
    {
     "data": {
      "text/plain": [
       "GradientBoostingClassifier(criterion='friedman_mse', init=None,\n",
       "              learning_rate=0.2, loss='deviance', max_depth=4,\n",
       "              max_features=None, max_leaf_nodes=None,\n",
       "              min_impurity_split=1e-07, min_samples_leaf=3,\n",
       "              min_samples_split=6, min_weight_fraction_leaf=0.0,\n",
       "              n_estimators=100, presort='auto', random_state=1337,\n",
       "              subsample=1.0, verbose=0, warm_start=False)"
      ]
     },
     "execution_count": 55,
     "metadata": {},
     "output_type": "execute_result"
    }
   ],
   "source": [
    "best_clf"
   ]
  },
  {
   "cell_type": "code",
   "execution_count": 20,
   "metadata": {},
   "outputs": [
    {
     "data": {
      "text/plain": [
       "GradientBoostingClassifier(criterion='friedman_mse', init=None,\n",
       "              learning_rate=0.2, loss='deviance', max_depth=4,\n",
       "              max_features=None, max_leaf_nodes=None,\n",
       "              min_impurity_decrease=0.0, min_impurity_split=None,\n",
       "              min_samples_leaf=20, min_samples_split=2,\n",
       "              min_weight_fraction_leaf=0.0, n_estimators=100,\n",
       "              presort='auto', random_state=49, subsample=1.0, verbose=0,\n",
       "              warm_start=False)"
      ]
     },
     "execution_count": 20,
     "metadata": {},
     "output_type": "execute_result"
    }
   ],
   "source": [
    "best_clf"
   ]
  },
  {
   "cell_type": "markdown",
   "metadata": {},
   "source": [
    "### Question 5 - Final Model Evaluation\n",
    "\n",
    "* What is your optimized model's accuracy and F-score on the testing data? \n",
    "* Are these scores better or worse than the unoptimized model? \n",
    "* How do the results from your optimized model compare to the naive predictor benchmarks you found earlier in **Question 1**?_  \n",
    "\n",
    "**Note:** Fill in the table below with your results, and then provide discussion in the **Answer** box."
   ]
  },
  {
   "cell_type": "markdown",
   "metadata": {},
   "source": [
    "#### Results:\n",
    "\n",
    "|     Metric     | Unoptimized Model | Optimized Model |\n",
    "| :------------: | :---------------: | :-------------: | \n",
    "| Accuracy Score | 0.8630            | 0.8701          |\n",
    "| F-score        | 0.7395            | 0.7502          |\n"
   ]
  },
  {
   "cell_type": "markdown",
   "metadata": {},
   "source": [
    "**Answer: **\n",
    "\n",
    "The optimized model has an accuracy of ~87% and F-score (f=0.5) of ~0.75. These scores are both better, although not materially so, than the unoptimized model. (I would guess there is much more performance to be found in the model with more time, but my pedestrian laptop takes too long to do the gridsearch for me to bother)\n",
    "\n",
    "The scores do vastly outperform the naive scores of ~25% accuracy and F-score of ~62%, though, which show that we've provided substantial value with our choice of model from the static case. One could say that instead of always predicting 1 (the person makes more than \\$50k), we could predict the opposite — the person always makes less than \\$50k. This would give us accuracy closer to our classification model, of roughly 75%! But the predicitions would be worthless, as we'd never find any candidates for donorship. So I'll still conclude we've made a significant improvement using Gradient Boosting."
   ]
  },
  {
   "cell_type": "markdown",
   "metadata": {},
   "source": [
    "----\n",
    "## Feature Importance\n",
    "\n",
    "An important task when performing supervised learning on a dataset like the census data we study here is determining which features provide the most predictive power. By focusing on the relationship between only a few crucial features and the target label we simplify our understanding of the phenomenon, which is most always a useful thing to do. In the case of this project, that means we wish to identify a small number of features that most strongly predict whether an individual makes at most or more than \\$50,000.\n",
    "\n",
    "Choose a scikit-learn classifier (e.g., adaboost, random forests) that has a `feature_importance_` attribute, which is a function that ranks the importance of features according to the chosen classifier.  In the next python cell fit this classifier to training set and use this attribute to determine the top 5 most important features for the census dataset."
   ]
  },
  {
   "cell_type": "markdown",
   "metadata": {},
   "source": [
    "### Question 6 - Feature Relevance Observation\n",
    "When **Exploring the Data**, it was shown there are thirteen available features for each individual on record in the census data. Of these thirteen records, which five features do you believe to be most important for prediction, and in what order would you rank them and why?"
   ]
  },
  {
   "cell_type": "markdown",
   "metadata": {},
   "source": [
    "** Full feature list (for reference) **\n",
    "\n",
    "* **age**: continuous. \n",
    "* **workclass**: Private, Self-emp-not-inc, Self-emp-inc, Federal-gov, Local-gov, State-gov, Without-pay, Never-worked. \n",
    "* **education**: Bachelors, Some-college, 11th, HS-grad, Prof-school, Assoc-acdm, Assoc-voc, 9th, 7th-8th, 12th, Masters, 1st-4th, 10th, Doctorate, 5th-6th, Preschool. \n",
    "* **education-num**: continuous. \n",
    "* **marital-status**: Married-civ-spouse, Divorced, Never-married, Separated, Widowed, Married-spouse-absent, Married-AF-spouse. \n",
    "* **occupation**: Tech-support, Craft-repair, Other-service, Sales, Exec-managerial, Prof-specialty, Handlers-cleaners, Machine-op-inspct, Adm-clerical, Farming-fishing, Transport-moving, Priv-house-serv, Protective-serv, Armed-Forces. \n",
    "* **relationship**: Wife, Own-child, Husband, Not-in-family, Other-relative, Unmarried. \n",
    "* **race**: Black, White, Asian-Pac-Islander, Amer-Indian-Eskimo, Other. \n",
    "* **sex**: Female, Male. \n",
    "* **capital-gain**: continuous. \n",
    "* **capital-loss**: continuous. \n",
    "* **hours-per-week**: continuous. \n",
    "* **native-country**: United-States, Cambodia, England, Puerto-Rico, Canada, Germany, Outlying-US(Guam-USVI-etc), India, Japan, Greece, South, China, Cuba, Iran, Honduras, Philippines, Italy, Poland, Jamaica, Vietnam, Mexico, Portugal, Ireland, France, Dominican-Republic, Laos, Ecuador, Taiwan, Haiti, Columbia, Hungary, Guatemala, Nicaragua, Scotland, Thailand, Yugoslavia, El-Salvador, Trinadad&Tobago, Peru, Hong, Holand-Netherlands."
   ]
  },
  {
   "cell_type": "markdown",
   "metadata": {},
   "source": [
    "**Answer:**\n",
    "\n",
    "My choices based on pure speculation and intuition would be:\n",
    "* **age**- More senior people have higher salaries\n",
    "* **capital-gain and capital-loss**- My interpretation is that these mean that the person has made a net capital gain or loss during the year, i.e. trading some asset or property with a net gain or loss. This activity is much more common among the well-to-do than the masses. I think wether it's a gain or loss is somewhat irrelevant, as my feeling is that the mere activity is more indicative of a person's income than the actual result.\n",
    "* **education**- This is usually cited as a common indicator of income, as far as I know. Higher education is usually correlated with higher salary.\n",
    "* **occupation**- I could have gone workclass here as well, but as the categories therein were quite wide (i.e. Private will also include employers such as a pub or restaurant, giving minimum wage), I think the more specific occupation will be more influential."
   ]
  },
  {
   "cell_type": "markdown",
   "metadata": {},
   "source": [
    "### Implementation - Extracting Feature Importance\n",
    "Choose a `scikit-learn` supervised learning algorithm that has a `feature_importance_` attribute availble for it. This attribute is a function that ranks the importance of each feature when making predictions based on the chosen algorithm.\n",
    "\n",
    "In the code cell below, you will need to implement the following:\n",
    " - Import a supervised learning model from sklearn if it is different from the three used earlier.\n",
    " - Train the supervised model on the entire training set.\n",
    " - Extract the feature importances using `'.feature_importances_'`."
   ]
  },
  {
   "cell_type": "code",
   "execution_count": 25,
   "metadata": {},
   "outputs": [
    {
     "data": {
      "image/png": "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\n",
      "text/plain": [
       "<matplotlib.figure.Figure at 0x1a1f1fc410>"
      ]
     },
     "metadata": {},
     "output_type": "display_data"
    }
   ],
   "source": [
    "# TODO: Import a supervised learning model that has 'feature_importances_'\n",
    "from sklearn.ensemble import GradientBoostingClassifier\n",
    "\n",
    "# TODO: Train the supervised model on the training set using .fit(X_train, y_train)\n",
    "model = GradientBoostingClassifier(random_state=49)\n",
    "model.fit(X_train, y_train)\n",
    "\n",
    "# TODO: Extract the feature importances using .feature_importances_ \n",
    "importances = model.feature_importances_\n",
    "\n",
    "# Plot\n",
    "vs.feature_plot(importances, X_train, y_train)"
   ]
  },
  {
   "cell_type": "markdown",
   "metadata": {},
   "source": [
    "### Question 7 - Extracting Feature Importance\n",
    "\n",
    "Observe the visualization created above which displays the five most relevant features for predicting if an individual makes at most or above \\$50,000.  \n",
    "* How do these five features compare to the five features you discussed in **Question 6**?\n",
    "* If you were close to the same answer, how does this visualization confirm your thoughts? \n",
    "* If you were not close, why do you think these features are more relevant?"
   ]
  },
  {
   "cell_type": "markdown",
   "metadata": {},
   "source": [
    "**Answer:**\n",
    "\n",
    "I seem to have hit on the capital features, age, as well as education — although the numerical variable is chosen here (as the one-hot encoded variables will be very sparse, I assume). The categorical variable `marital-status_Married-civ-spouse` surprises me — I would not have expected that marriage would be the third most important feature in the data set. Perhaps a confounding variable that explains both effects — socially well-adjusted, not-too-unattractive people are more likely to have spouses and get good jobs? Perhaps people with good jobs are more attractive to the potential partners, thus increasing chances for marriage? Probably a multi-faceted answer here.\n",
    "\n",
    "The capital variables seem to be the most important, which I think makes sense. Having any assets, speculative or otherwise, suggests enough disposable income to make investments outside a common savings account. Idiots taking out a second mortgage and betting it all on Bitcoin notwithstanding."
   ]
  },
  {
   "cell_type": "markdown",
   "metadata": {},
   "source": [
    "### Feature Selection\n",
    "How does a model perform if we only use a subset of all the available features in the data? With less features required to train, the expectation is that training and prediction time is much lower — at the cost of performance metrics. From the visualization above, we see that the top five most important features contribute more than half of the importance of **all** features present in the data. This hints that we can attempt to *reduce the feature space* and simplify the information required for the model to learn. The code cell below will use the same optimized model you found earlier, and train it on the same training set *with only the top five important features*. "
   ]
  },
  {
   "cell_type": "code",
   "execution_count": 32,
   "metadata": {},
   "outputs": [
    {
     "name": "stdout",
     "output_type": "stream",
     "text": [
      "Final Model trained on full data\n",
      "------\n",
      "Accuracy on testing data: 0.8701\n",
      "F-score on testing data: 0.7502\n",
      "\n",
      "Final Model trained on reduced data\n",
      "------\n",
      "Accuracy on testing data: 0.8584\n",
      "F-score on testing data: 0.7236\n"
     ]
    }
   ],
   "source": [
    "# Import functionality for cloning a model\n",
    "from sklearn.base import clone\n",
    "\n",
    "# Reduce the feature space\n",
    "X_train_reduced = X_train[X_train.columns.values[(np.argsort(importances)[::-1])[:5]]]\n",
    "X_test_reduced = X_test[X_test.columns.values[(np.argsort(importances)[::-1])[:5]]]\n",
    "\n",
    "# Train on the \"best\" model found from grid search earlier\n",
    "clf = (clone(best_clf)).fit(X_train_reduced, y_train)\n",
    "\n",
    "# Make new predictions\n",
    "reduced_predictions = clf.predict(X_test_reduced)\n",
    "\n",
    "# Report scores from the final model using both versions of data\n",
    "print \"Final Model trained on full data\\n------\"\n",
    "print \"Accuracy on testing data: {:.4f}\".format(accuracy_score(y_test, best_predictions))\n",
    "print \"F-score on testing data: {:.4f}\".format(fbeta_score(y_test, best_predictions, beta = 0.5))\n",
    "print \"\\nFinal Model trained on reduced data\\n------\"\n",
    "print \"Accuracy on testing data: {:.4f}\".format(accuracy_score(y_test, reduced_predictions))\n",
    "print \"F-score on testing data: {:.4f}\".format(fbeta_score(y_test, reduced_predictions, beta = 0.5))"
   ]
  },
  {
   "cell_type": "markdown",
   "metadata": {},
   "source": [
    "### Question 8 - Effects of Feature Selection\n",
    "\n",
    "* How does the final model's F-score and accuracy score on the reduced data using only five features compare to those same scores when all features are used?\n",
    "* If training time was a factor, would you consider using the reduced data as your training set?"
   ]
  },
  {
   "cell_type": "markdown",
   "metadata": {},
   "source": [
    "**Answer:**\n",
    "\n",
    "* The reduced model performs pretty well! We see a loss of 1.2 percentage points on the accuracy, and ~3 pp. on the F-score. \n",
    "* If time was a factor, I would absolutely consider using a reduced data set. If we had any figures on the expected performance (in terms of getting donors) using the full model, we could estimate the cost savings and, conversely, the expected reduction in donor money. The simpler model may be a better answer in terms of cost/benefit."
   ]
  },
  {
   "cell_type": "markdown",
   "metadata": {},
   "source": [
    "> **Note**: Once you have completed all of the code implementations and successfully answered each question above, you may finalize your work by exporting the iPython Notebook as an HTML document. You can do this by using the menu above and navigating to  \n",
    "**File -> Download as -> HTML (.html)**. Include the finished document along with this notebook as your submission."
   ]
  }
 ],
 "metadata": {
  "kernelspec": {
   "display_name": "Python [default]",
   "language": "python",
   "name": "python2"
  },
  "language_info": {
   "codemirror_mode": {
    "name": "ipython",
    "version": 2
   },
   "file_extension": ".py",
   "mimetype": "text/x-python",
   "name": "python",
   "nbconvert_exporter": "python",
   "pygments_lexer": "ipython2",
   "version": "2.7.14"
  }
 },
 "nbformat": 4,
 "nbformat_minor": 1
}
